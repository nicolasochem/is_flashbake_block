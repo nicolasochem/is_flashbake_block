{
 "cells": [
  {
   "cell_type": "markdown",
   "metadata": {},
   "source": [
    "Plot blocks per hour after Granada upgrade"
   ]
  },
  {
   "cell_type": "code",
   "execution_count": 1,
   "metadata": {},
   "outputs": [
    {
     "name": "stdout",
     "output_type": "stream",
     "text": [
      "operation_hash,operation_size,operation_gas,fee_sum,weight\n",
      "op83bP,173,1495,461,1397091.1445086705\n",
      "ooarpi,173,1495,461,1397091.1445086705\n",
      "ooBHD1,458,3761,1172,1341627.807860262\n",
      "ooQQuV,458,3761,1172,1341627.807860262\n",
      "onqE5i,153,1081,372,1274739.450980392\n",
      "onf6zj,178,2288,545,1238636.3636363635\n",
      "ooHMDk,254,2984,691,1204155.4959785524\n",
      "onmbaX,566,8203,1724,1092868.4627575278\n",
      "opUJEf,409,11934,1932,841830.0653594771\n",
      "oovbwS,173,5135,798,808101.2658227847\n",
      "opQAUd,356,18500,2650,744864.8648648649\n",
      "ooTUnn,175,9617,1275,689404.1800977436\n",
      "ooHggL,248,11915,1576,687805.2874527907\n",
      "ooyUqn,181,12200,1537,655114.7540983607\n",
      "oog2HZ,217,15317,1887,640621.5316315205\n",
      "opJKJs,453,45951,5661,640621.5316315206\n",
      "onkbRg,175,28094,3120,577489.855485157\n",
      "onf6TJ,175,28094,3120,577489.855485157\n",
      "opXaRE,176,36067,3894,561421.7983197938\n",
      "Block 2794842 is a Flashbake block!\n"
     ]
    }
   ],
   "source": [
    "import requests\n",
    "import json\n",
    "import sys\n",
    "\n",
    "def is_fb_block(level):\n",
    "    ops = requests.get(f\"https://mainnet.oxheadhosted.com/chains/main/blocks/{level}/operations/3?metadata=never\").json()\n",
    "    simplified_ops = []\n",
    "    for op_num,op in enumerate(ops):\n",
    "        sop = { \"contents\": []}\n",
    "        for c in op[\"contents\"]:\n",
    "            sc = { \"fee\": c[\"fee\"],\n",
    "                    \"gas_limit\": c[\"gas_limit\"]}\n",
    "            sop[\"contents\"].append(sc)\n",
    "        sop[\"fee_sum\"] = sum([int(c[\"fee\"]) for c in op[\"contents\"]])\n",
    "        sop[\"operation_gas\"] = sum([int(c[\"gas_limit\"]) for c in op[\"contents\"]])\n",
    "        sop[\"gas_ratio\"] = sop[\"operation_gas\"] / 5200000\n",
    "        # operation size in bytes. We perform a binary http query and substract 68 bytes metadata\n",
    "        # NOPE ! 32 (protocol hash) + 32 (hash de l'op)  + 4 (chain id) => faut enlever 68 bytes\n",
    "        # 32 (hash de l'op) + 4 (chain id) + 13 (??) => faut enlever 49 bytes\n",
    "        extralen=49\n",
    "        sop[\"operation_size\"] = len(bytes(requests.get(f\"https://mainnet.oxheadhosted.com/chains/main/blocks/{level}/operations/3/{op_num}?metadata=never\", headers={'accept': 'application/octet-stream'}).content)) - extralen\n",
    "        sop[\"size_ratio\"] = sop[\"operation_size\"] / (512*1024)\n",
    "        sop[\"weight\"] = sop[\"fee_sum\"] / max(sop[\"size_ratio\"], sop[\"gas_ratio\"])\n",
    "        sop[\"hash\"] = op[\"hash\"][0:6]\n",
    "        simplified_ops.append(sop)\n",
    "#print(json.dumps(simplified_ops, indent=2))\n",
    "    if (sorted(simplified_ops, key=lambda op: op[\"weight\"], reverse = True) == simplified_ops):\n",
    "        print(f\"Block {level} is not a FB block\")\n",
    "    else:\n",
    "        print(\"operation_hash,operation_size,operation_gas,fee_sum,weight\")\n",
    "        for op in simplified_ops:\n",
    "            print(f\"{op['hash']},{op['operation_size']},{op['operation_gas']},{op['fee_sum']},{op['weight']}\")\n",
    "        print(f\"Block {level} is a Flashbake block!\")\n",
    "        exit(1)\n",
    "\n",
    "is_fb_block(2794842)"
   ]
  },
  {
   "cell_type": "code",
   "execution_count": null,
   "metadata": {},
   "outputs": [],
   "source": []
  }
 ],
 "metadata": {
  "kernelspec": {
   "display_name": "Python 3 (ipykernel)",
   "language": "python",
   "name": "python3"
  },
  "language_info": {
   "codemirror_mode": {
    "name": "ipython",
    "version": 3
   },
   "file_extension": ".py",
   "mimetype": "text/x-python",
   "name": "python",
   "nbconvert_exporter": "python",
   "pygments_lexer": "ipython3",
   "version": "3.7.12"
  }
 },
 "nbformat": 4,
 "nbformat_minor": 4
}
