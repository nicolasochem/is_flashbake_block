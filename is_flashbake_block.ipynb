{
 "cells": [
  {
   "cell_type": "markdown",
   "metadata": {},
   "source": [
    "Script to detect flashbake blocks. Enter the block number on the last line then hit (Shift)+(Enter)"
   ]
  },
  {
   "cell_type": "code",
   "execution_count": 1,
   "metadata": {},
   "outputs": [
    {
     "name": "stdout",
     "output_type": "stream",
     "text": [
      "operation_hash,operation_size,operation_gas,fee_sum,weight\n",
      "opLKrS,152,1001,0,0.0\n",
      "opTQpy,11496,179100,49600,1440089.3355667223\n",
      "op2p67,173,1495,461,1397091.1445086705\n",
      "ood5a9,458,5965,1392,1213478.6253143335\n",
      "oo431C,254,2984,691,1204155.4959785524\n",
      "oofKQM,293,2264,656,1173832.518771331\n",
      "oornHT,213,1308,453,1115035.042253521\n",
      "ooUQzZ,270,3628,745,1067805.9536934951\n",
      "oo9deK,458,5924,1174,1030519.9189736664\n",
      "ooumso,153,10600,2000,981132.0754716981\n",
      "op6MVW,356,9569,1650,896645.4174939911\n",
      "oowKwa,1912,34405,5573,842307.8040982415\n",
      "oosWyq,354,9563,1434,779755.3069120569\n",
      "ooPoTH,352,9563,1432,778667.7820767541\n",
      "ooWSvg,413,14308,1991,723595.191501258\n",
      "ooywkh,155,10600,1420,696603.7735849057\n",
      "onxp5t,181,12103,1528,656498.3888292159\n",
      "ooFqxU,181,13225,1615,635009.4517958412\n",
      "oosDGZ,181,14375,1755,634852.1739130435\n",
      "oontNK,179,14551,1746,623957.1163493918\n",
      "ongFvF,179,22399,2530,587347.6494486361\n",
      "oos2rK,177,38914,4204,561772.1128642648\n",
      "onvpTQ,189,46192,4919,553749.567024593\n",
      "Block 2804310 is a Flashbake block!\n"
     ]
    }
   ],
   "source": [
    "import requests\n",
    "import json\n",
    "import sys\n",
    "\n",
    "def is_fb_block(level):\n",
    "    ops = requests.get(f\"https://mainnet.oxheadhosted.com/chains/main/blocks/{level}/operations/3?metadata=never\").json()\n",
    "    simplified_ops = []\n",
    "    for op_num,op in enumerate(ops):\n",
    "        sop = { \"contents\": []}\n",
    "        for c in op[\"contents\"]:\n",
    "            sc = { \"fee\": c[\"fee\"],\n",
    "                    \"gas_limit\": c[\"gas_limit\"]}\n",
    "            sop[\"contents\"].append(sc)\n",
    "        sop[\"fee_sum\"] = sum([int(c[\"fee\"]) for c in op[\"contents\"]])\n",
    "        sop[\"operation_gas\"] = sum([int(c[\"gas_limit\"]) for c in op[\"contents\"]])\n",
    "        sop[\"gas_ratio\"] = sop[\"operation_gas\"] / 5200000\n",
    "        # operation size in bytes. We perform a binary http query and substract 68 bytes metadata\n",
    "        # NOPE ! 32 (protocol hash) + 32 (hash de l'op)  + 4 (chain id) => faut enlever 68 bytes\n",
    "        # 32 (hash de l'op) + 4 (chain id) + 13 (??) => faut enlever 49 bytes\n",
    "        extralen=49\n",
    "        sop[\"operation_size\"] = len(bytes(requests.get(f\"https://mainnet.oxheadhosted.com/chains/main/blocks/{level}/operations/3/{op_num}?metadata=never\", headers={'accept': 'application/octet-stream'}).content)) - extralen\n",
    "        sop[\"size_ratio\"] = sop[\"operation_size\"] / (512*1024)\n",
    "        sop[\"weight\"] = sop[\"fee_sum\"] / max(sop[\"size_ratio\"], sop[\"gas_ratio\"])\n",
    "        sop[\"hash\"] = op[\"hash\"][0:6]\n",
    "        simplified_ops.append(sop)\n",
    "#print(json.dumps(simplified_ops, indent=2))\n",
    "    if (sorted(simplified_ops, key=lambda op: op[\"weight\"], reverse = True) == simplified_ops):\n",
    "        print(f\"Block {level} is not a FB block\")\n",
    "    else:\n",
    "        print(\"operation_hash,operation_size,operation_gas,fee_sum,weight\")\n",
    "        for op in simplified_ops:\n",
    "            print(f\"{op['hash']},{op['operation_size']},{op['operation_gas']},{op['fee_sum']},{op['weight']}\")\n",
    "        print(f\"Block {level} is a Flashbake block!\")\n",
    "        exit(1)\n",
    "\n",
    "is_fb_block(2804310)"
   ]
  },
  {
   "cell_type": "code",
   "execution_count": null,
   "metadata": {},
   "outputs": [],
   "source": []
  }
 ],
 "metadata": {
  "kernelspec": {
   "display_name": "Python 3 (ipykernel)",
   "language": "python",
   "name": "python3"
  },
  "language_info": {
   "codemirror_mode": {
    "name": "ipython",
    "version": 3
   },
   "file_extension": ".py",
   "mimetype": "text/x-python",
   "name": "python",
   "nbconvert_exporter": "python",
   "pygments_lexer": "ipython3",
   "version": "3.7.12"
  }
 },
 "nbformat": 4,
 "nbformat_minor": 4
}
