{
 "cells": [
  {
   "cell_type": "markdown",
   "metadata": {},
   "source": [
    "Detects if a Tezos block is a Flashbake block by looking whether the operation order matches the standard baker's heuristic."
   ]
  },
  {
   "cell_type": "code",
   "execution_count": 1,
   "metadata": {},
   "outputs": [
    {
     "name": "stdout",
     "output_type": "stream",
     "text": [
      "Block 2794842 is not a FB block\n"
     ]
    }
   ],
   "source": [
    "import requests\n",
    "import json\n",
    "import sys\n",
    "\n",
    "def is_fb_block(level):\n",
    "    ops = requests.get(f\"https://mainnet.oxheadhosted.com/chains/main/blocks/{level}/operations/3?metadata=never\").json()\n",
    "    simplified_ops = []\n",
    "    for op_num,op in enumerate(ops):\n",
    "        sop = { \"contents\": []}\n",
    "        for c in op[\"contents\"]:\n",
    "            sc = { \"fee\": c[\"fee\"],\n",
    "                    \"gas_limit\": c[\"gas_limit\"]}\n",
    "            sop[\"contents\"].append(sc)\n",
    "        sop[\"fee_sum\"] = sum([int(c[\"fee\"]) for c in op[\"contents\"]])\n",
    "        sop[\"operation_gas\"] = sum([int(c[\"gas_limit\"]) for c in op[\"contents\"]])\n",
    "        sop[\"gas_ratio\"] = sop[\"operation_gas\"] / 5200000\n",
    "        # operation size in bytes. We perform a binary http query and substract 68 bytes metadata\n",
    "        # NOPE ! 32 (protocol hash) + 32 (hash de l'op)  + 4 (chain id) => faut enlever 68 bytes\n",
    "        # 32 (hash de l'op) + 4 (chain id) + 13 (??) => faut enlever 49 bytes\n",
    "        extralen=49\n",
    "        sop[\"operation_size\"] = len(bytes(requests.get(f\"https://mainnet.oxheadhosted.com/chains/main/blocks/{level}/operations/3/{op_num}?metadata=never\", headers={'accept': 'application/octet-stream'}).content)) - extralen\n",
    "        sop[\"size_ratio\"] = sop[\"operation_size\"] / (512*1024)\n",
    "        sop[\"weight\"] = sop[\"fee_sum\"] / max(sop[\"size_ratio\"], sop[\"gas_ratio\"])\n",
    "        sop[\"hash\"] = op[\"hash\"][0:6]\n",
    "        simplified_ops.append(sop)\n",
    "#print(json.dumps(simplified_ops, indent=2))\n",
    "    weights = [ int(op[\"weight\"]) for op in simplified_ops]\n",
    "    if (sorted(weights, reverse = True) == weights):\n",
    "        print(f\"Block {level} is not a FB block\")\n",
    "    else:\n",
    "        print(\"operation_hash,operation_size,operation_gas,fee_sum,weight\")\n",
    "        for op in simplified_ops:\n",
    "            print(f\"{op['hash']},{op['operation_size']},{op['operation_gas']},{op['fee_sum']},{op['weight']}\")\n",
    "        print(f\"Block {level} is a Flashbake block!\")\n",
    "        exit(1)\n",
    "\n",
    "\n",
    "is_fb_block(2794842)"
   ]
  },
  {
   "cell_type": "code",
   "execution_count": null,
   "metadata": {},
   "outputs": [],
   "source": []
  }
 ],
 "metadata": {
  "kernelspec": {
   "display_name": "Python 3 (ipykernel)",
   "language": "python",
   "name": "python3"
  },
  "language_info": {
   "codemirror_mode": {
    "name": "ipython",
    "version": 3
   },
   "file_extension": ".py",
   "mimetype": "text/x-python",
   "name": "python",
   "nbconvert_exporter": "python",
   "pygments_lexer": "ipython3",
   "version": "3.7.12"
  }
 },
 "nbformat": 4,
 "nbformat_minor": 4
}
